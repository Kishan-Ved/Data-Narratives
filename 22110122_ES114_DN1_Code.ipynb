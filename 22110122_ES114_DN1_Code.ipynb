{
  "cells": [
    {
      "cell_type": "markdown",
      "metadata": {
        "id": "view-in-github",
        "colab_type": "text"
      },
      "source": [
        "<a href=\"https://colab.research.google.com/github/Kishan-Ved/Data-Narratives/blob/main/22110122_ES114_DN1_Code.ipynb\" target=\"_parent\"><img src=\"https://colab.research.google.com/assets/colab-badge.svg\" alt=\"Open In Colab\"/></a>"
      ]
    },
    {
      "cell_type": "code",
      "execution_count": null,
      "id": "0927e0ae",
      "metadata": {
        "id": "0927e0ae"
      },
      "outputs": [],
      "source": [
        "import numpy as np\n",
        "import pandas as pd\n",
        "import matplotlib.pyplot as plt\n",
        "from scipy import linalg"
      ]
    },
    {
      "cell_type": "code",
      "execution_count": null,
      "id": "a1568ed9",
      "metadata": {
        "id": "a1568ed9"
      },
      "outputs": [],
      "source": [
        "books = pd.read_csv(\"https://raw.githubusercontent.com/zygmuntz/goodbooks-10k/master/books.csv\")\n",
        "# btags = pd.read_csv(\"https://raw.githubusercontent.com/zygmuntz/goodbooks-10k/master/book_tags.csv\")\n",
        "tr = pd.read_csv(\"https://raw.githubusercontent.com/zygmuntz/goodbooks-10k/master/to_read.csv\")\n",
        "# ratings = pd.read_csv(\"https://raw.githubusercontent.com/zygmuntz/goodbooks-10k/master/ratings.csv\")"
      ]
    },
    {
      "cell_type": "code",
      "execution_count": null,
      "id": "de308372",
      "metadata": {
        "scrolled": true,
        "id": "de308372",
        "outputId": "9ec2cbd2-38f4-49e4-ffd8-619ab3bcb0b0"
      },
      "outputs": [
        {
          "data": {
            "text/html": [
              "<div>\n",
              "<style scoped>\n",
              "    .dataframe tbody tr th:only-of-type {\n",
              "        vertical-align: middle;\n",
              "    }\n",
              "\n",
              "    .dataframe tbody tr th {\n",
              "        vertical-align: top;\n",
              "    }\n",
              "\n",
              "    .dataframe thead th {\n",
              "        text-align: right;\n",
              "    }\n",
              "</style>\n",
              "<table border=\"1\" class=\"dataframe\">\n",
              "  <thead>\n",
              "    <tr style=\"text-align: right;\">\n",
              "      <th></th>\n",
              "      <th>book_id</th>\n",
              "      <th>goodreads_book_id</th>\n",
              "      <th>best_book_id</th>\n",
              "      <th>work_id</th>\n",
              "      <th>books_count</th>\n",
              "      <th>isbn</th>\n",
              "      <th>isbn13</th>\n",
              "      <th>authors</th>\n",
              "      <th>original_publication_year</th>\n",
              "      <th>original_title</th>\n",
              "      <th>...</th>\n",
              "      <th>ratings_count</th>\n",
              "      <th>work_ratings_count</th>\n",
              "      <th>work_text_reviews_count</th>\n",
              "      <th>ratings_1</th>\n",
              "      <th>ratings_2</th>\n",
              "      <th>ratings_3</th>\n",
              "      <th>ratings_4</th>\n",
              "      <th>ratings_5</th>\n",
              "      <th>image_url</th>\n",
              "      <th>small_image_url</th>\n",
              "    </tr>\n",
              "  </thead>\n",
              "  <tbody>\n",
              "    <tr>\n",
              "      <th>0</th>\n",
              "      <td>1</td>\n",
              "      <td>2767052</td>\n",
              "      <td>2767052</td>\n",
              "      <td>2792775</td>\n",
              "      <td>272</td>\n",
              "      <td>439023483</td>\n",
              "      <td>9.780439e+12</td>\n",
              "      <td>Suzanne Collins</td>\n",
              "      <td>2008.0</td>\n",
              "      <td>The Hunger Games</td>\n",
              "      <td>...</td>\n",
              "      <td>4780653</td>\n",
              "      <td>4942365</td>\n",
              "      <td>155254</td>\n",
              "      <td>66715</td>\n",
              "      <td>127936</td>\n",
              "      <td>560092</td>\n",
              "      <td>1481305</td>\n",
              "      <td>2706317</td>\n",
              "      <td>https://images.gr-assets.com/books/1447303603m...</td>\n",
              "      <td>https://images.gr-assets.com/books/1447303603s...</td>\n",
              "    </tr>\n",
              "    <tr>\n",
              "      <th>1</th>\n",
              "      <td>2</td>\n",
              "      <td>3</td>\n",
              "      <td>3</td>\n",
              "      <td>4640799</td>\n",
              "      <td>491</td>\n",
              "      <td>439554934</td>\n",
              "      <td>9.780440e+12</td>\n",
              "      <td>J.K. Rowling, Mary GrandPré</td>\n",
              "      <td>1997.0</td>\n",
              "      <td>Harry Potter and the Philosopher's Stone</td>\n",
              "      <td>...</td>\n",
              "      <td>4602479</td>\n",
              "      <td>4800065</td>\n",
              "      <td>75867</td>\n",
              "      <td>75504</td>\n",
              "      <td>101676</td>\n",
              "      <td>455024</td>\n",
              "      <td>1156318</td>\n",
              "      <td>3011543</td>\n",
              "      <td>https://images.gr-assets.com/books/1474154022m...</td>\n",
              "      <td>https://images.gr-assets.com/books/1474154022s...</td>\n",
              "    </tr>\n",
              "    <tr>\n",
              "      <th>2</th>\n",
              "      <td>3</td>\n",
              "      <td>41865</td>\n",
              "      <td>41865</td>\n",
              "      <td>3212258</td>\n",
              "      <td>226</td>\n",
              "      <td>316015849</td>\n",
              "      <td>9.780316e+12</td>\n",
              "      <td>Stephenie Meyer</td>\n",
              "      <td>2005.0</td>\n",
              "      <td>Twilight</td>\n",
              "      <td>...</td>\n",
              "      <td>3866839</td>\n",
              "      <td>3916824</td>\n",
              "      <td>95009</td>\n",
              "      <td>456191</td>\n",
              "      <td>436802</td>\n",
              "      <td>793319</td>\n",
              "      <td>875073</td>\n",
              "      <td>1355439</td>\n",
              "      <td>https://images.gr-assets.com/books/1361039443m...</td>\n",
              "      <td>https://images.gr-assets.com/books/1361039443s...</td>\n",
              "    </tr>\n",
              "    <tr>\n",
              "      <th>3</th>\n",
              "      <td>4</td>\n",
              "      <td>2657</td>\n",
              "      <td>2657</td>\n",
              "      <td>3275794</td>\n",
              "      <td>487</td>\n",
              "      <td>61120081</td>\n",
              "      <td>9.780061e+12</td>\n",
              "      <td>Harper Lee</td>\n",
              "      <td>1960.0</td>\n",
              "      <td>To Kill a Mockingbird</td>\n",
              "      <td>...</td>\n",
              "      <td>3198671</td>\n",
              "      <td>3340896</td>\n",
              "      <td>72586</td>\n",
              "      <td>60427</td>\n",
              "      <td>117415</td>\n",
              "      <td>446835</td>\n",
              "      <td>1001952</td>\n",
              "      <td>1714267</td>\n",
              "      <td>https://images.gr-assets.com/books/1361975680m...</td>\n",
              "      <td>https://images.gr-assets.com/books/1361975680s...</td>\n",
              "    </tr>\n",
              "    <tr>\n",
              "      <th>4</th>\n",
              "      <td>5</td>\n",
              "      <td>4671</td>\n",
              "      <td>4671</td>\n",
              "      <td>245494</td>\n",
              "      <td>1356</td>\n",
              "      <td>743273567</td>\n",
              "      <td>9.780743e+12</td>\n",
              "      <td>F. Scott Fitzgerald</td>\n",
              "      <td>1925.0</td>\n",
              "      <td>The Great Gatsby</td>\n",
              "      <td>...</td>\n",
              "      <td>2683664</td>\n",
              "      <td>2773745</td>\n",
              "      <td>51992</td>\n",
              "      <td>86236</td>\n",
              "      <td>197621</td>\n",
              "      <td>606158</td>\n",
              "      <td>936012</td>\n",
              "      <td>947718</td>\n",
              "      <td>https://images.gr-assets.com/books/1490528560m...</td>\n",
              "      <td>https://images.gr-assets.com/books/1490528560s...</td>\n",
              "    </tr>\n",
              "  </tbody>\n",
              "</table>\n",
              "<p>5 rows × 23 columns</p>\n",
              "</div>"
            ],
            "text/plain": [
              "   book_id  goodreads_book_id  best_book_id  work_id  books_count       isbn  \\\n",
              "0        1            2767052       2767052  2792775          272  439023483   \n",
              "1        2                  3             3  4640799          491  439554934   \n",
              "2        3              41865         41865  3212258          226  316015849   \n",
              "3        4               2657          2657  3275794          487   61120081   \n",
              "4        5               4671          4671   245494         1356  743273567   \n",
              "\n",
              "         isbn13                      authors  original_publication_year  \\\n",
              "0  9.780439e+12              Suzanne Collins                     2008.0   \n",
              "1  9.780440e+12  J.K. Rowling, Mary GrandPré                     1997.0   \n",
              "2  9.780316e+12              Stephenie Meyer                     2005.0   \n",
              "3  9.780061e+12                   Harper Lee                     1960.0   \n",
              "4  9.780743e+12          F. Scott Fitzgerald                     1925.0   \n",
              "\n",
              "                             original_title  ... ratings_count  \\\n",
              "0                          The Hunger Games  ...       4780653   \n",
              "1  Harry Potter and the Philosopher's Stone  ...       4602479   \n",
              "2                                  Twilight  ...       3866839   \n",
              "3                     To Kill a Mockingbird  ...       3198671   \n",
              "4                          The Great Gatsby  ...       2683664   \n",
              "\n",
              "  work_ratings_count  work_text_reviews_count  ratings_1  ratings_2  \\\n",
              "0            4942365                   155254      66715     127936   \n",
              "1            4800065                    75867      75504     101676   \n",
              "2            3916824                    95009     456191     436802   \n",
              "3            3340896                    72586      60427     117415   \n",
              "4            2773745                    51992      86236     197621   \n",
              "\n",
              "   ratings_3  ratings_4  ratings_5  \\\n",
              "0     560092    1481305    2706317   \n",
              "1     455024    1156318    3011543   \n",
              "2     793319     875073    1355439   \n",
              "3     446835    1001952    1714267   \n",
              "4     606158     936012     947718   \n",
              "\n",
              "                                           image_url  \\\n",
              "0  https://images.gr-assets.com/books/1447303603m...   \n",
              "1  https://images.gr-assets.com/books/1474154022m...   \n",
              "2  https://images.gr-assets.com/books/1361039443m...   \n",
              "3  https://images.gr-assets.com/books/1361975680m...   \n",
              "4  https://images.gr-assets.com/books/1490528560m...   \n",
              "\n",
              "                                     small_image_url  \n",
              "0  https://images.gr-assets.com/books/1447303603s...  \n",
              "1  https://images.gr-assets.com/books/1474154022s...  \n",
              "2  https://images.gr-assets.com/books/1361039443s...  \n",
              "3  https://images.gr-assets.com/books/1361975680s...  \n",
              "4  https://images.gr-assets.com/books/1490528560s...  \n",
              "\n",
              "[5 rows x 23 columns]"
            ]
          },
          "execution_count": 3,
          "metadata": {},
          "output_type": "execute_result"
        }
      ],
      "source": [
        "books.head()"
      ]
    },
    {
      "cell_type": "code",
      "execution_count": null,
      "id": "cfcf80ec",
      "metadata": {
        "id": "cfcf80ec",
        "outputId": "2c221edc-2724-46ee-d58f-8b8a682e2411"
      },
      "outputs": [
        {
          "name": "stdout",
          "output_type": "stream",
          "text": [
            "5 most popular books and their authors:\n"
          ]
        },
        {
          "data": {
            "text/html": [
              "<div>\n",
              "<style scoped>\n",
              "    .dataframe tbody tr th:only-of-type {\n",
              "        vertical-align: middle;\n",
              "    }\n",
              "\n",
              "    .dataframe tbody tr th {\n",
              "        vertical-align: top;\n",
              "    }\n",
              "\n",
              "    .dataframe thead th {\n",
              "        text-align: right;\n",
              "    }\n",
              "</style>\n",
              "<table border=\"1\" class=\"dataframe\">\n",
              "  <thead>\n",
              "    <tr style=\"text-align: right;\">\n",
              "      <th></th>\n",
              "      <th>Book Title</th>\n",
              "      <th>Author(s)</th>\n",
              "    </tr>\n",
              "  </thead>\n",
              "  <tbody>\n",
              "    <tr>\n",
              "      <th>1</th>\n",
              "      <td>The Hunger Games</td>\n",
              "      <td>Suzanne Collins</td>\n",
              "    </tr>\n",
              "    <tr>\n",
              "      <th>2</th>\n",
              "      <td>Harry Potter and the Philosopher's Stone</td>\n",
              "      <td>J.K. Rowling, Mary GrandPré</td>\n",
              "    </tr>\n",
              "    <tr>\n",
              "      <th>3</th>\n",
              "      <td>Twilight</td>\n",
              "      <td>Stephenie Meyer</td>\n",
              "    </tr>\n",
              "    <tr>\n",
              "      <th>4</th>\n",
              "      <td>To Kill a Mockingbird</td>\n",
              "      <td>Harper Lee</td>\n",
              "    </tr>\n",
              "    <tr>\n",
              "      <th>5</th>\n",
              "      <td>The Great Gatsby</td>\n",
              "      <td>F. Scott Fitzgerald</td>\n",
              "    </tr>\n",
              "  </tbody>\n",
              "</table>\n",
              "</div>"
            ],
            "text/plain": [
              "                                 Book Title                    Author(s)\n",
              "1                          The Hunger Games              Suzanne Collins\n",
              "2  Harry Potter and the Philosopher's Stone  J.K. Rowling, Mary GrandPré\n",
              "3                                  Twilight              Stephenie Meyer\n",
              "4                     To Kill a Mockingbird                   Harper Lee\n",
              "5                          The Great Gatsby          F. Scott Fitzgerald"
            ]
          },
          "execution_count": 4,
          "metadata": {},
          "output_type": "execute_result"
        }
      ],
      "source": [
        "m = books[\"original_title\"]\n",
        "m2 = books[\"authors\"]\n",
        "m = pd.DataFrame(m)\n",
        "m2 = pd.DataFrame(m2)\n",
        "m.loc[:,[\"authors\"]] = m2.loc[:,\"authors\"]\n",
        "m.index = np.arange(1,10001)\n",
        "m.columns = [\"Book Title\",\"Author(s)\"]\n",
        "print(\"5 most popular books and their authors:\")\n",
        "m.head()"
      ]
    },
    {
      "cell_type": "code",
      "execution_count": null,
      "id": "21ce85af",
      "metadata": {
        "scrolled": false,
        "id": "21ce85af",
        "outputId": "6caa7058-f92e-4b9c-933f-0fcd90a6ea94"
      },
      "outputs": [
        {
          "name": "stdout",
          "output_type": "stream",
          "text": [
            "Language code and corresponding number of books :\n"
          ]
        },
        {
          "data": {
            "text/html": [
              "<div>\n",
              "<style scoped>\n",
              "    .dataframe tbody tr th:only-of-type {\n",
              "        vertical-align: middle;\n",
              "    }\n",
              "\n",
              "    .dataframe tbody tr th {\n",
              "        vertical-align: top;\n",
              "    }\n",
              "\n",
              "    .dataframe thead th {\n",
              "        text-align: right;\n",
              "    }\n",
              "</style>\n",
              "<table border=\"1\" class=\"dataframe\">\n",
              "  <thead>\n",
              "    <tr style=\"text-align: right;\">\n",
              "      <th></th>\n",
              "      <th>Number of books</th>\n",
              "    </tr>\n",
              "  </thead>\n",
              "  <tbody>\n",
              "    <tr>\n",
              "      <th>eng</th>\n",
              "      <td>6341</td>\n",
              "    </tr>\n",
              "    <tr>\n",
              "      <th>en-US</th>\n",
              "      <td>2070</td>\n",
              "    </tr>\n",
              "    <tr>\n",
              "      <th>en-GB</th>\n",
              "      <td>257</td>\n",
              "    </tr>\n",
              "    <tr>\n",
              "      <th>ara</th>\n",
              "      <td>64</td>\n",
              "    </tr>\n",
              "    <tr>\n",
              "      <th>en-CA</th>\n",
              "      <td>58</td>\n",
              "    </tr>\n",
              "    <tr>\n",
              "      <th>fre</th>\n",
              "      <td>25</td>\n",
              "    </tr>\n",
              "    <tr>\n",
              "      <th>ind</th>\n",
              "      <td>21</td>\n",
              "    </tr>\n",
              "    <tr>\n",
              "      <th>spa</th>\n",
              "      <td>20</td>\n",
              "    </tr>\n",
              "    <tr>\n",
              "      <th>ger</th>\n",
              "      <td>13</td>\n",
              "    </tr>\n",
              "    <tr>\n",
              "      <th>per</th>\n",
              "      <td>7</td>\n",
              "    </tr>\n",
              "    <tr>\n",
              "      <th>jpn</th>\n",
              "      <td>7</td>\n",
              "    </tr>\n",
              "    <tr>\n",
              "      <th>por</th>\n",
              "      <td>6</td>\n",
              "    </tr>\n",
              "    <tr>\n",
              "      <th>pol</th>\n",
              "      <td>6</td>\n",
              "    </tr>\n",
              "    <tr>\n",
              "      <th>en</th>\n",
              "      <td>4</td>\n",
              "    </tr>\n",
              "    <tr>\n",
              "      <th>nor</th>\n",
              "      <td>3</td>\n",
              "    </tr>\n",
              "    <tr>\n",
              "      <th>dan</th>\n",
              "      <td>3</td>\n",
              "    </tr>\n",
              "    <tr>\n",
              "      <th>fil</th>\n",
              "      <td>2</td>\n",
              "    </tr>\n",
              "    <tr>\n",
              "      <th>ita</th>\n",
              "      <td>2</td>\n",
              "    </tr>\n",
              "    <tr>\n",
              "      <th>vie</th>\n",
              "      <td>1</td>\n",
              "    </tr>\n",
              "    <tr>\n",
              "      <th>tur</th>\n",
              "      <td>1</td>\n",
              "    </tr>\n",
              "    <tr>\n",
              "      <th>nl</th>\n",
              "      <td>1</td>\n",
              "    </tr>\n",
              "    <tr>\n",
              "      <th>swe</th>\n",
              "      <td>1</td>\n",
              "    </tr>\n",
              "    <tr>\n",
              "      <th>rum</th>\n",
              "      <td>1</td>\n",
              "    </tr>\n",
              "    <tr>\n",
              "      <th>mul</th>\n",
              "      <td>1</td>\n",
              "    </tr>\n",
              "    <tr>\n",
              "      <th>rus</th>\n",
              "      <td>1</td>\n",
              "    </tr>\n",
              "  </tbody>\n",
              "</table>\n",
              "</div>"
            ],
            "text/plain": [
              "       Number of books\n",
              "eng               6341\n",
              "en-US             2070\n",
              "en-GB              257\n",
              "ara                 64\n",
              "en-CA               58\n",
              "fre                 25\n",
              "ind                 21\n",
              "spa                 20\n",
              "ger                 13\n",
              "per                  7\n",
              "jpn                  7\n",
              "por                  6\n",
              "pol                  6\n",
              "en                   4\n",
              "nor                  3\n",
              "dan                  3\n",
              "fil                  2\n",
              "ita                  2\n",
              "vie                  1\n",
              "tur                  1\n",
              "nl                   1\n",
              "swe                  1\n",
              "rum                  1\n",
              "mul                  1\n",
              "rus                  1"
            ]
          },
          "execution_count": 5,
          "metadata": {},
          "output_type": "execute_result"
        }
      ],
      "source": [
        "l = books[\"language_code\"].dropna()\n",
        "l = pd.DataFrame(l.value_counts())\n",
        "l.columns = [\"Number of books\"]\n",
        "print(\"Language code and corresponding number of books :\")\n",
        "l"
      ]
    },
    {
      "cell_type": "code",
      "execution_count": null,
      "id": "6a1a38ef",
      "metadata": {
        "id": "6a1a38ef",
        "outputId": "bd72dd1c-224a-41f7-921a-1cece376e4e7"
      },
      "outputs": [
        {
          "data": {
            "image/png": "[encoded data removed]",
            "text/plain": [
              "<Figure size 640x480 with 1 Axes>"
            ]
          },
          "metadata": {},
          "output_type": "display_data"
        }
      ],
      "source": [
        "l = books[\"language_code\"].dropna().value_counts().head(5)\n",
        "l = dict(l)\n",
        "val = l.values()\n",
        "names = l.keys()\n",
        "plt.pie(val,labels=names,colors=['pink','yellow','red','green','blue'],autopct='%1.1f%%',)\n",
        "plt.show()"
      ]
    },
    {
      "cell_type": "code",
      "execution_count": null,
      "id": "c744f6fb",
      "metadata": {
        "id": "c744f6fb",
        "outputId": "69de9ecf-bc7e-4a1d-95e4-9f6010037808"
      },
      "outputs": [
        {
          "name": "stdout",
          "output_type": "stream",
          "text": [
            "Top 5 authors (having the most books in this dataset)\n"
          ]
        },
        {
          "data": {
            "text/html": [
              "<div>\n",
              "<style scoped>\n",
              "    .dataframe tbody tr th:only-of-type {\n",
              "        vertical-align: middle;\n",
              "    }\n",
              "\n",
              "    .dataframe tbody tr th {\n",
              "        vertical-align: top;\n",
              "    }\n",
              "\n",
              "    .dataframe thead th {\n",
              "        text-align: right;\n",
              "    }\n",
              "</style>\n",
              "<table border=\"1\" class=\"dataframe\">\n",
              "  <thead>\n",
              "    <tr style=\"text-align: right;\">\n",
              "      <th></th>\n",
              "      <th>Number of books</th>\n",
              "    </tr>\n",
              "    <tr>\n",
              "      <th>authors</th>\n",
              "      <th></th>\n",
              "    </tr>\n",
              "  </thead>\n",
              "  <tbody>\n",
              "    <tr>\n",
              "      <th>Stephen King</th>\n",
              "      <td>60</td>\n",
              "    </tr>\n",
              "    <tr>\n",
              "      <th>Nora Roberts</th>\n",
              "      <td>59</td>\n",
              "    </tr>\n",
              "    <tr>\n",
              "      <th>Dean Koontz</th>\n",
              "      <td>47</td>\n",
              "    </tr>\n",
              "    <tr>\n",
              "      <th>Terry Pratchett</th>\n",
              "      <td>42</td>\n",
              "    </tr>\n",
              "    <tr>\n",
              "      <th>Agatha Christie</th>\n",
              "      <td>39</td>\n",
              "    </tr>\n",
              "  </tbody>\n",
              "</table>\n",
              "</div>"
            ],
            "text/plain": [
              "                 Number of books\n",
              "authors                         \n",
              "Stephen King                  60\n",
              "Nora Roberts                  59\n",
              "Dean Koontz                   47\n",
              "Terry Pratchett               42\n",
              "Agatha Christie               39"
            ]
          },
          "execution_count": 7,
          "metadata": {},
          "output_type": "execute_result"
        }
      ],
      "source": [
        "a = books[\"authors\"].dropna()\n",
        "a = pd.DataFrame(a).value_counts()\n",
        "a = pd.DataFrame(a.head(5))\n",
        "a.columns = [\"Number of books\"]\n",
        "print(\"Top 5 authors (having the most books in this dataset)\")\n",
        "a"
      ]
    },
    {
      "cell_type": "code",
      "execution_count": null,
      "id": "d6e58761",
      "metadata": {
        "id": "d6e58761",
        "outputId": "ad6ead31-78d5-4e81-d81a-85db2530feef"
      },
      "outputs": [
        {
          "data": {
            "image/png": "[encoded data removed]",
            "text/plain": [
              "<Figure size 640x480 with 1 Axes>"
            ]
          },
          "metadata": {},
          "output_type": "display_data"
        }
      ],
      "source": [
        "a = books[\"authors\"].dropna().value_counts().head(15)\n",
        "a = dict(a)\n",
        "\n",
        "plt.barh(list(a.keys()),list(a.values()),color = 'orange')\n",
        "plt.grid()\n",
        "plt.show()"
      ]
    },
    {
      "cell_type": "code",
      "execution_count": null,
      "id": "d935ede4",
      "metadata": {
        "id": "d935ede4"
      },
      "outputs": [],
      "source": [
        "# e = books.loc[books[\"language_code\"]==\"eng\"][\"authors\"]\n",
        "# e = e.value_counts()\n",
        "# e.head(5)"
      ]
    },
    {
      "cell_type": "code",
      "execution_count": null,
      "id": "c78a054c",
      "metadata": {
        "scrolled": false,
        "id": "c78a054c",
        "outputId": "13486b25-0494-47a6-b42a-730c6180411f"
      },
      "outputs": [
        {
          "data": {
            "image/png": "[encoded data removed]",
            "text/plain": [
              "<Figure size 700x600 with 1 Axes>"
            ]
          },
          "metadata": {},
          "output_type": "display_data"
        }
      ],
      "source": [
        "r = books[\"average_rating\"].astype(float)\n",
        "r2 = round(r,1)\n",
        "plt.figure(figsize=(7,6))\n",
        "r2.plot(kind=\"hist\",bins=20,title=\"Histogram of ratings of books in the dataset\")\n",
        "plt.grid()\n",
        "plt.show()\n",
        "# Press Shift + O to get the entire image without a scroller"
      ]
    },
    {
      "cell_type": "code",
      "execution_count": null,
      "id": "9e210c4e",
      "metadata": {
        "id": "9e210c4e",
        "outputId": "cbef52e8-1b3b-4537-c6d4-a9ae36755cf5"
      },
      "outputs": [
        {
          "data": {
            "text/plain": [
              "count    10000.000000\n",
              "mean         4.002191\n",
              "std          0.254427\n",
              "min          2.470000\n",
              "25%          3.850000\n",
              "50%          4.020000\n",
              "75%          4.180000\n",
              "max          4.820000\n",
              "Name: average_rating, dtype: float64"
            ]
          },
          "execution_count": 11,
          "metadata": {},
          "output_type": "execute_result"
        }
      ],
      "source": [
        "r.describe()"
      ]
    },
    {
      "cell_type": "code",
      "execution_count": null,
      "id": "612768fa",
      "metadata": {
        "id": "612768fa",
        "outputId": "111a80ad-ca87-4130-d2cf-a24b372c8793"
      },
      "outputs": [
        {
          "data": {
            "text/html": [
              "<div>\n",
              "<style scoped>\n",
              "    .dataframe tbody tr th:only-of-type {\n",
              "        vertical-align: middle;\n",
              "    }\n",
              "\n",
              "    .dataframe tbody tr th {\n",
              "        vertical-align: top;\n",
              "    }\n",
              "\n",
              "    .dataframe thead th {\n",
              "        text-align: right;\n",
              "    }\n",
              "</style>\n",
              "<table border=\"1\" class=\"dataframe\">\n",
              "  <thead>\n",
              "    <tr style=\"text-align: right;\">\n",
              "      <th></th>\n",
              "      <th>Highest Rated</th>\n",
              "    </tr>\n",
              "  </thead>\n",
              "  <tbody>\n",
              "    <tr>\n",
              "      <th>Author</th>\n",
              "      <td>Bill Watterson</td>\n",
              "    </tr>\n",
              "    <tr>\n",
              "      <th>Book Title</th>\n",
              "      <td>The Complete Calvin and Hobbes</td>\n",
              "    </tr>\n",
              "    <tr>\n",
              "      <th>Rating</th>\n",
              "      <td>4.82</td>\n",
              "    </tr>\n",
              "  </tbody>\n",
              "</table>\n",
              "</div>"
            ],
            "text/plain": [
              "                             Highest Rated\n",
              "Author                      Bill Watterson\n",
              "Book Title  The Complete Calvin and Hobbes\n",
              "Rating                                4.82"
            ]
          },
          "execution_count": 12,
          "metadata": {},
          "output_type": "execute_result"
        }
      ],
      "source": [
        "max_rated = pd.DataFrame(books.loc[books[\"average_rating\"]>=4.8].iloc[0,[7,9,12]])\n",
        "max_rated.index = [\"Author\",\"Book Title\",\"Rating\"]\n",
        "max_rated.columns = [\"Highest Rated\"]\n",
        "max_rated"
      ]
    },
    {
      "cell_type": "code",
      "execution_count": null,
      "id": "53380b6d",
      "metadata": {
        "id": "53380b6d"
      },
      "outputs": [],
      "source": [
        "ratings = pd.read_csv(\"https://raw.githubusercontent.com/zygmuntz/goodbooks-10k/master/ratings.csv\")"
      ]
    },
    {
      "cell_type": "code",
      "execution_count": null,
      "id": "3b76adc5",
      "metadata": {
        "id": "3b76adc5",
        "outputId": "afe07efb-786a-4fff-eac0-73b271e3867a"
      },
      "outputs": [
        {
          "name": "stdout",
          "output_type": "stream",
          "text": [
            "User Id with maximum ratings and number of ratings:\n"
          ]
        },
        {
          "data": {
            "text/html": [
              "<div>\n",
              "<style scoped>\n",
              "    .dataframe tbody tr th:only-of-type {\n",
              "        vertical-align: middle;\n",
              "    }\n",
              "\n",
              "    .dataframe tbody tr th {\n",
              "        vertical-align: top;\n",
              "    }\n",
              "\n",
              "    .dataframe thead th {\n",
              "        text-align: right;\n",
              "    }\n",
              "</style>\n",
              "<table border=\"1\" class=\"dataframe\">\n",
              "  <thead>\n",
              "    <tr style=\"text-align: right;\">\n",
              "      <th></th>\n",
              "      <th># of Ratings</th>\n",
              "    </tr>\n",
              "  </thead>\n",
              "  <tbody>\n",
              "    <tr>\n",
              "      <th>12874</th>\n",
              "      <td>200</td>\n",
              "    </tr>\n",
              "    <tr>\n",
              "      <th>30944</th>\n",
              "      <td>200</td>\n",
              "    </tr>\n",
              "    <tr>\n",
              "      <th>52036</th>\n",
              "      <td>199</td>\n",
              "    </tr>\n",
              "    <tr>\n",
              "      <th>12381</th>\n",
              "      <td>199</td>\n",
              "    </tr>\n",
              "    <tr>\n",
              "      <th>28158</th>\n",
              "      <td>199</td>\n",
              "    </tr>\n",
              "    <tr>\n",
              "      <th>45554</th>\n",
              "      <td>197</td>\n",
              "    </tr>\n",
              "    <tr>\n",
              "      <th>6630</th>\n",
              "      <td>197</td>\n",
              "    </tr>\n",
              "    <tr>\n",
              "      <th>37834</th>\n",
              "      <td>196</td>\n",
              "    </tr>\n",
              "    <tr>\n",
              "      <th>15604</th>\n",
              "      <td>196</td>\n",
              "    </tr>\n",
              "    <tr>\n",
              "      <th>7563</th>\n",
              "      <td>196</td>\n",
              "    </tr>\n",
              "  </tbody>\n",
              "</table>\n",
              "</div>"
            ],
            "text/plain": [
              "       # of Ratings\n",
              "12874           200\n",
              "30944           200\n",
              "52036           199\n",
              "12381           199\n",
              "28158           199\n",
              "45554           197\n",
              "6630            197\n",
              "37834           196\n",
              "15604           196\n",
              "7563            196"
            ]
          },
          "execution_count": 14,
          "metadata": {},
          "output_type": "execute_result"
        }
      ],
      "source": [
        "print(\"User Id with maximum ratings and number of ratings:\")\n",
        "rr = ratings[\"user_id\"].value_counts().head(10)\n",
        "rr = pd.DataFrame(rr)\n",
        "rr.columns = ['# of Ratings']\n",
        "rr"
      ]
    },
    {
      "cell_type": "code",
      "execution_count": null,
      "id": "dbb7e3b7",
      "metadata": {
        "id": "dbb7e3b7",
        "outputId": "97364c08-c00a-4d15-cec0-3d482eaadb43"
      },
      "outputs": [
        {
          "name": "stdout",
          "output_type": "stream",
          "text": [
            "Analysis of user activity based on mean ratings per user and other factors: \n"
          ]
        },
        {
          "data": {
            "text/plain": [
              "count    53424.000000\n",
              "mean       111.868804\n",
              "std         26.071224\n",
              "min         19.000000\n",
              "25%         96.000000\n",
              "50%        111.000000\n",
              "75%        128.000000\n",
              "max        200.000000\n",
              "Name: user_id, dtype: float64"
            ]
          },
          "execution_count": 15,
          "metadata": {},
          "output_type": "execute_result"
        }
      ],
      "source": [
        "print(\"Analysis of user activity based on mean ratings per user and other factors: \")\n",
        "ratings[\"user_id\"].value_counts().describe()"
      ]
    },
    {
      "cell_type": "code",
      "execution_count": null,
      "id": "4b947d30",
      "metadata": {
        "id": "4b947d30",
        "outputId": "cecc65ad-fa12-4aca-ae2d-e43a5100c127"
      },
      "outputs": [
        {
          "name": "stderr",
          "output_type": "stream",
          "text": [
            "C:\\Users\\manis\\AppData\\Local\\Temp\\ipykernel_22680\\2714620950.py:6: DeprecationWarning: In a future version, `df.iloc[:, i] = newvals` will attempt to set the values inplace instead of always setting a new array. To retain the old behavior, use either `df[df.columns[i]] = newvals` or, if columns are non-unique, `df.isetitem(i, newvals)`\n",
            "  tr_df.iloc[:,1] = top_tr_id\n"
          ]
        },
        {
          "data": {
            "text/html": [
              "<div>\n",
              "<style scoped>\n",
              "    .dataframe tbody tr th:only-of-type {\n",
              "        vertical-align: middle;\n",
              "    }\n",
              "\n",
              "    .dataframe tbody tr th {\n",
              "        vertical-align: top;\n",
              "    }\n",
              "\n",
              "    .dataframe thead th {\n",
              "        text-align: right;\n",
              "    }\n",
              "</style>\n",
              "<table border=\"1\" class=\"dataframe\">\n",
              "  <thead>\n",
              "    <tr style=\"text-align: right;\">\n",
              "      <th></th>\n",
              "      <th>Book Title</th>\n",
              "      <th>Book Id</th>\n",
              "      <th>To Read Tags</th>\n",
              "    </tr>\n",
              "  </thead>\n",
              "  <tbody>\n",
              "    <tr>\n",
              "      <th>1</th>\n",
              "      <td>The Book Thief</td>\n",
              "      <td>47</td>\n",
              "      <td>2772</td>\n",
              "    </tr>\n",
              "    <tr>\n",
              "      <th>2</th>\n",
              "      <td>All the Light We Cannot See</td>\n",
              "      <td>143</td>\n",
              "      <td>1967</td>\n",
              "    </tr>\n",
              "    <tr>\n",
              "      <th>3</th>\n",
              "      <td>Catch-22</td>\n",
              "      <td>113</td>\n",
              "      <td>1840</td>\n",
              "    </tr>\n",
              "    <tr>\n",
              "      <th>4</th>\n",
              "      <td>1984</td>\n",
              "      <td>13</td>\n",
              "      <td>1812</td>\n",
              "    </tr>\n",
              "    <tr>\n",
              "      <th>5</th>\n",
              "      <td>The Kite Runner</td>\n",
              "      <td>11</td>\n",
              "      <td>1767</td>\n",
              "    </tr>\n",
              "  </tbody>\n",
              "</table>\n",
              "</div>"
            ],
            "text/plain": [
              "                    Book Title  Book Id To Read Tags\n",
              "1               The Book Thief       47         2772\n",
              "2  All the Light We Cannot See      143         1967\n",
              "3                     Catch-22      113         1840\n",
              "4                         1984       13         1812\n",
              "5              The Kite Runner       11         1767"
            ]
          },
          "execution_count": 16,
          "metadata": {},
          "output_type": "execute_result"
        }
      ],
      "source": [
        "x = pd.DataFrame(tr[\"book_id\"].value_counts().head(5))\n",
        "top_tr_id = tr[\"book_id\"].value_counts().head(5).index\n",
        "tr_df = pd.DataFrame([[None,None,None]]*5)\n",
        "tr_df.columns = [\"Book Title\",\"Book Id\",\"To Read Tags\"]\n",
        "tr_df.index = np.arange(1,6)\n",
        "tr_df.iloc[:,1] = top_tr_id\n",
        "for i in range(10000):\n",
        "    b_id = books.iloc[i,0] \n",
        "    for j in range(5):\n",
        "        if top_tr_id[j] == b_id:\n",
        "            tr_df.iloc[j,0] = books.loc[i,\"title\"]\n",
        "for i in range(5):\n",
        "    tr_df.iloc[i,2] = x.iloc[i,0]\n",
        "tr_df"
      ]
    },
    {
      "cell_type": "code",
      "execution_count": null,
      "id": "07bfefaf",
      "metadata": {
        "id": "07bfefaf"
      },
      "outputs": [],
      "source": [
        "tags = pd.read_csv(\"https://raw.githubusercontent.com/zygmuntz/goodbooks-10k/master/tags.csv\")"
      ]
    },
    {
      "cell_type": "code",
      "execution_count": null,
      "id": "3884c99d",
      "metadata": {
        "scrolled": true,
        "id": "3884c99d",
        "outputId": "ce1ac31d-69e7-4db4-9d77-76c6f659b3b4"
      },
      "outputs": [
        {
          "data": {
            "text/html": [
              "<div>\n",
              "<style scoped>\n",
              "    .dataframe tbody tr th:only-of-type {\n",
              "        vertical-align: middle;\n",
              "    }\n",
              "\n",
              "    .dataframe tbody tr th {\n",
              "        vertical-align: top;\n",
              "    }\n",
              "\n",
              "    .dataframe thead th {\n",
              "        text-align: right;\n",
              "    }\n",
              "</style>\n",
              "<table border=\"1\" class=\"dataframe\">\n",
              "  <thead>\n",
              "    <tr style=\"text-align: right;\">\n",
              "      <th></th>\n",
              "      <th>book_id</th>\n",
              "      <th>goodreads_book_id</th>\n",
              "      <th>best_book_id</th>\n",
              "      <th>work_id</th>\n",
              "      <th>books_count</th>\n",
              "      <th>isbn13</th>\n",
              "      <th>original_publication_year</th>\n",
              "      <th>average_rating</th>\n",
              "      <th>ratings_count</th>\n",
              "      <th>work_ratings_count</th>\n",
              "      <th>work_text_reviews_count</th>\n",
              "      <th>ratings_1</th>\n",
              "      <th>ratings_2</th>\n",
              "      <th>ratings_3</th>\n",
              "      <th>ratings_4</th>\n",
              "      <th>ratings_5</th>\n",
              "    </tr>\n",
              "  </thead>\n",
              "  <tbody>\n",
              "    <tr>\n",
              "      <th>count</th>\n",
              "      <td>9929.000000</td>\n",
              "      <td>9.929000e+03</td>\n",
              "      <td>9.929000e+03</td>\n",
              "      <td>9.929000e+03</td>\n",
              "      <td>9929.000000</td>\n",
              "      <td>9.349000e+03</td>\n",
              "      <td>9929.000000</td>\n",
              "      <td>9929.000000</td>\n",
              "      <td>9.929000e+03</td>\n",
              "      <td>9.929000e+03</td>\n",
              "      <td>9929.000000</td>\n",
              "      <td>9929.000000</td>\n",
              "      <td>9929.000000</td>\n",
              "      <td>9929.000000</td>\n",
              "      <td>9.929000e+03</td>\n",
              "      <td>9.929000e+03</td>\n",
              "    </tr>\n",
              "    <tr>\n",
              "      <th>mean</th>\n",
              "      <td>5003.933629</td>\n",
              "      <td>5.293383e+06</td>\n",
              "      <td>5.501375e+06</td>\n",
              "      <td>8.679675e+06</td>\n",
              "      <td>73.467117</td>\n",
              "      <td>9.754863e+12</td>\n",
              "      <td>1991.566220</td>\n",
              "      <td>4.002017</td>\n",
              "      <td>5.402629e+04</td>\n",
              "      <td>5.970652e+04</td>\n",
              "      <td>2932.262262</td>\n",
              "      <td>1343.805721</td>\n",
              "      <td>3105.094269</td>\n",
              "      <td>11463.444456</td>\n",
              "      <td>1.998191e+04</td>\n",
              "      <td>2.381226e+04</td>\n",
              "    </tr>\n",
              "    <tr>\n",
              "      <th>std</th>\n",
              "      <td>2886.446443</td>\n",
              "      <td>7.590300e+06</td>\n",
              "      <td>7.842681e+06</td>\n",
              "      <td>1.177007e+07</td>\n",
              "      <td>164.916880</td>\n",
              "      <td>4.444173e+11</td>\n",
              "      <td>41.713327</td>\n",
              "      <td>0.254342</td>\n",
              "      <td>1.577449e+05</td>\n",
              "      <td>1.682026e+05</td>\n",
              "      <td>6143.244611</td>\n",
              "      <td>6651.089929</td>\n",
              "      <td>9723.137019</td>\n",
              "      <td>28570.472772</td>\n",
              "      <td>5.156739e+04</td>\n",
              "      <td>8.000712e+04</td>\n",
              "    </tr>\n",
              "    <tr>\n",
              "      <th>min</th>\n",
              "      <td>1.000000</td>\n",
              "      <td>1.000000e+00</td>\n",
              "      <td>1.000000e+00</td>\n",
              "      <td>8.700000e+01</td>\n",
              "      <td>1.000000</td>\n",
              "      <td>1.951703e+08</td>\n",
              "      <td>1513.000000</td>\n",
              "      <td>2.470000</td>\n",
              "      <td>2.716000e+03</td>\n",
              "      <td>5.510000e+03</td>\n",
              "      <td>3.000000</td>\n",
              "      <td>11.000000</td>\n",
              "      <td>30.000000</td>\n",
              "      <td>323.000000</td>\n",
              "      <td>7.500000e+02</td>\n",
              "      <td>7.540000e+02</td>\n",
              "    </tr>\n",
              "    <tr>\n",
              "      <th>25%</th>\n",
              "      <td>2506.000000</td>\n",
              "      <td>4.678700e+04</td>\n",
              "      <td>4.846400e+04</td>\n",
              "      <td>1.010054e+06</td>\n",
              "      <td>23.000000</td>\n",
              "      <td>9.780316e+12</td>\n",
              "      <td>1991.000000</td>\n",
              "      <td>3.850000</td>\n",
              "      <td>1.357000e+04</td>\n",
              "      <td>1.544300e+04</td>\n",
              "      <td>701.000000</td>\n",
              "      <td>196.000000</td>\n",
              "      <td>657.000000</td>\n",
              "      <td>3113.000000</td>\n",
              "      <td>5.416000e+03</td>\n",
              "      <td>5.328000e+03</td>\n",
              "    </tr>\n",
              "    <tr>\n",
              "      <th>50%</th>\n",
              "      <td>5010.000000</td>\n",
              "      <td>4.003540e+05</td>\n",
              "      <td>4.298830e+05</td>\n",
              "      <td>2.731250e+06</td>\n",
              "      <td>40.000000</td>\n",
              "      <td>9.780452e+12</td>\n",
              "      <td>2004.000000</td>\n",
              "      <td>4.020000</td>\n",
              "      <td>2.114300e+04</td>\n",
              "      <td>2.381600e+04</td>\n",
              "      <td>1406.000000</td>\n",
              "      <td>391.000000</td>\n",
              "      <td>1162.000000</td>\n",
              "      <td>4894.000000</td>\n",
              "      <td>8.270000e+03</td>\n",
              "      <td>8.831000e+03</td>\n",
              "    </tr>\n",
              "    <tr>\n",
              "      <th>75%</th>\n",
              "      <td>7504.000000</td>\n",
              "      <td>9.436632e+06</td>\n",
              "      <td>9.681098e+06</td>\n",
              "      <td>1.455849e+07</td>\n",
              "      <td>66.000000</td>\n",
              "      <td>9.780832e+12</td>\n",
              "      <td>2011.000000</td>\n",
              "      <td>4.180000</td>\n",
              "      <td>4.103700e+04</td>\n",
              "      <td>4.586700e+04</td>\n",
              "      <td>2753.000000</td>\n",
              "      <td>885.000000</td>\n",
              "      <td>2353.000000</td>\n",
              "      <td>9272.000000</td>\n",
              "      <td>1.597900e+04</td>\n",
              "      <td>1.726800e+04</td>\n",
              "    </tr>\n",
              "    <tr>\n",
              "      <th>max</th>\n",
              "      <td>10000.000000</td>\n",
              "      <td>3.328864e+07</td>\n",
              "      <td>3.553423e+07</td>\n",
              "      <td>5.639960e+07</td>\n",
              "      <td>3455.000000</td>\n",
              "      <td>9.790008e+12</td>\n",
              "      <td>2017.000000</td>\n",
              "      <td>4.820000</td>\n",
              "      <td>4.780653e+06</td>\n",
              "      <td>4.942365e+06</td>\n",
              "      <td>155254.000000</td>\n",
              "      <td>456191.000000</td>\n",
              "      <td>436802.000000</td>\n",
              "      <td>793319.000000</td>\n",
              "      <td>1.481305e+06</td>\n",
              "      <td>3.011543e+06</td>\n",
              "    </tr>\n",
              "  </tbody>\n",
              "</table>\n",
              "</div>"
            ],
            "text/plain": [
              "            book_id  goodreads_book_id  best_book_id       work_id  \\\n",
              "count   9929.000000       9.929000e+03  9.929000e+03  9.929000e+03   \n",
              "mean    5003.933629       5.293383e+06  5.501375e+06  8.679675e+06   \n",
              "std     2886.446443       7.590300e+06  7.842681e+06  1.177007e+07   \n",
              "min        1.000000       1.000000e+00  1.000000e+00  8.700000e+01   \n",
              "25%     2506.000000       4.678700e+04  4.846400e+04  1.010054e+06   \n",
              "50%     5010.000000       4.003540e+05  4.298830e+05  2.731250e+06   \n",
              "75%     7504.000000       9.436632e+06  9.681098e+06  1.455849e+07   \n",
              "max    10000.000000       3.328864e+07  3.553423e+07  5.639960e+07   \n",
              "\n",
              "       books_count        isbn13  original_publication_year  average_rating  \\\n",
              "count  9929.000000  9.349000e+03                9929.000000     9929.000000   \n",
              "mean     73.467117  9.754863e+12                1991.566220        4.002017   \n",
              "std     164.916880  4.444173e+11                  41.713327        0.254342   \n",
              "min       1.000000  1.951703e+08                1513.000000        2.470000   \n",
              "25%      23.000000  9.780316e+12                1991.000000        3.850000   \n",
              "50%      40.000000  9.780452e+12                2004.000000        4.020000   \n",
              "75%      66.000000  9.780832e+12                2011.000000        4.180000   \n",
              "max    3455.000000  9.790008e+12                2017.000000        4.820000   \n",
              "\n",
              "       ratings_count  work_ratings_count  work_text_reviews_count  \\\n",
              "count   9.929000e+03        9.929000e+03              9929.000000   \n",
              "mean    5.402629e+04        5.970652e+04              2932.262262   \n",
              "std     1.577449e+05        1.682026e+05              6143.244611   \n",
              "min     2.716000e+03        5.510000e+03                 3.000000   \n",
              "25%     1.357000e+04        1.544300e+04               701.000000   \n",
              "50%     2.114300e+04        2.381600e+04              1406.000000   \n",
              "75%     4.103700e+04        4.586700e+04              2753.000000   \n",
              "max     4.780653e+06        4.942365e+06            155254.000000   \n",
              "\n",
              "           ratings_1      ratings_2      ratings_3     ratings_4     ratings_5  \n",
              "count    9929.000000    9929.000000    9929.000000  9.929000e+03  9.929000e+03  \n",
              "mean     1343.805721    3105.094269   11463.444456  1.998191e+04  2.381226e+04  \n",
              "std      6651.089929    9723.137019   28570.472772  5.156739e+04  8.000712e+04  \n",
              "min        11.000000      30.000000     323.000000  7.500000e+02  7.540000e+02  \n",
              "25%       196.000000     657.000000    3113.000000  5.416000e+03  5.328000e+03  \n",
              "50%       391.000000    1162.000000    4894.000000  8.270000e+03  8.831000e+03  \n",
              "75%       885.000000    2353.000000    9272.000000  1.597900e+04  1.726800e+04  \n",
              "max    456191.000000  436802.000000  793319.000000  1.481305e+06  3.011543e+06  "
            ]
          },
          "execution_count": 18,
          "metadata": {},
          "output_type": "execute_result"
        }
      ],
      "source": [
        "# y = books['original_publication_year'].dropna()\n",
        "y = books.loc[books['original_publication_year']>1500]\n",
        "y.describe()"
      ]
    },
    {
      "cell_type": "code",
      "execution_count": null,
      "id": "d18eab99",
      "metadata": {
        "id": "d18eab99"
      },
      "outputs": [],
      "source": []
    },
    {
      "cell_type": "code",
      "execution_count": null,
      "id": "3c856ba4",
      "metadata": {
        "id": "3c856ba4"
      },
      "outputs": [],
      "source": []
    },
    {
      "cell_type": "code",
      "execution_count": null,
      "id": "b830a906",
      "metadata": {
        "id": "b830a906",
        "outputId": "6c04e9d4-e8e2-4998-b46d-8b812f62d657"
      },
      "outputs": [
        {
          "data": {
            "image/png": "[encoded data removed]",
            "text/plain": [
              "<Figure size 640x480 with 1 Axes>"
            ]
          },
          "metadata": {},
          "output_type": "display_data"
        }
      ],
      "source": [
        "yr = books['original_publication_year']\n",
        "rat = books['average_rating']\n",
        "d = {}\n",
        "for i in range(10000):\n",
        "    if yr[i] < 1700 or yr[i]=='nan':\n",
        "        continue\n",
        "    else:\n",
        "        if yr[i] in d.keys():\n",
        "            d[yr[i]][0] +=  rat[i]\n",
        "            d[yr[i]][1] += 1\n",
        "        else:\n",
        "            d[yr[i]] = [rat[i],1]\n",
        "            \n",
        "            \n",
        "d3 = {}\n",
        "for year in d.keys():\n",
        "    d3[year] = d[year][0]/d[year][1]\n",
        "d3\n",
        "plt.plot(d3.keys(),d3.values(),'o')\n",
        "plt.xlabel(\"Publishing Year\")\n",
        "plt.ylabel(\"Average rating of books published in the year\")\n",
        "plt.show()"
      ]
    },
    {
      "cell_type": "code",
      "execution_count": null,
      "id": "c481d850",
      "metadata": {
        "scrolled": true,
        "id": "c481d850"
      },
      "outputs": [],
      "source": [
        "# Average ratings vs reviews correlation"
      ]
    },
    {
      "cell_type": "code",
      "execution_count": null,
      "id": "8fa70f35",
      "metadata": {
        "id": "8fa70f35",
        "outputId": "555cec75-03ef-45b4-ff6f-3209b057294a"
      },
      "outputs": [
        {
          "data": {
            "image/png": "[encoded data removed]",
            "text/plain": [
              "<Figure size 1000x700 with 1 Axes>"
            ]
          },
          "metadata": {},
          "output_type": "display_data"
        }
      ],
      "source": [
        "yr = books['ratings_count']\n",
        "rat = books['work_text_reviews_count']\n",
        "d = {}\n",
        "for i in range(10000):\n",
        "    if yr[i] < 1700 or yr[i]=='nan' or yr[i]==None:\n",
        "        continue\n",
        "    else:\n",
        "        if yr[i] in d.keys():\n",
        "            d[yr[i]][0] +=  rat[i]\n",
        "            d[yr[i]][1] += 1\n",
        "        else:\n",
        "            d[yr[i]] = [rat[i],1]\n",
        "            \n",
        "            \n",
        "d3 = {}\n",
        "for year in d.keys():\n",
        "    d3[year] = d[year][0]/d[year][1]\n",
        "d3\n",
        "plt.figure(figsize=(10,7))\n",
        "plt.plot(d3.keys(),d3.values(),'o')\n",
        "# plt.xlabel(\"Ratings count\")\n",
        "plt.ylabel(\"Reviews count\")\n",
        "plt.title(\"Reveiws count vs Ratings count\")\n",
        "plt.xlabel(\"Ratings count\")\n",
        "\n",
        "# Finding the least square solution : \n",
        "\n",
        "M = np.array(list(d3.keys()))\n",
        "M = M.T\n",
        "M = np.c_[np.ones((M.size,1)),M] \n",
        "p = linalg.lstsq(M,list(d3.values()))[0]\n",
        "a = p[0]\n",
        "b = p[1]\n",
        "xx = np.arange(0,5000000,1)\n",
        "yy = a + b*xx\n",
        "plt.plot(xx,yy)\n",
        "plt.show()"
      ]
    },
    {
      "cell_type": "code",
      "execution_count": null,
      "id": "b9fde510",
      "metadata": {
        "id": "b9fde510"
      },
      "outputs": [],
      "source": []
    },
    {
      "cell_type": "code",
      "execution_count": null,
      "id": "51236568",
      "metadata": {
        "id": "51236568"
      },
      "outputs": [],
      "source": []
    }
  ],
  "metadata": {
    "kernelspec": {
      "display_name": "Python 3 (ipykernel)",
      "language": "python",
      "name": "python3"
    },
    "language_info": {
      "codemirror_mode": {
        "name": "ipython",
        "version": 3
      },
      "file_extension": ".py",
      "mimetype": "text/x-python",
      "name": "python",
      "nbconvert_exporter": "python",
      "pygments_lexer": "ipython3",
      "version": "3.11.0"
    },
    "colab": {
      "provenance": [],
      "include_colab_link": true
    }
  },
  "nbformat": 4,
  "nbformat_minor": 5
}